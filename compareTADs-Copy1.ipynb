{
 "cells": [
  {
   "cell_type": "code",
   "execution_count": null,
   "metadata": {},
   "outputs": [],
   "source": [
    "%matplotlib inline\n",
    "\n",
    "import os\n",
    "import numpy as np\n",
    "import matplotlib.pyplot as plt\n",
    "import math\n",
    "\n",
    "# Load the tads+genes files for human and axolotl separately \n",
    "# Format:\n",
    "#   chr     start    end      gene1;gene2;gene3\n",
    "def loadTads(strFilename):\n",
    "    tads = dict()\n",
    "    with open(strFilename, 'r') as hFile:\n",
    "        for strLine in hFile.readlines():\n",
    "            chrID, start, end, genes = strLine.strip().split('\\t')\n",
    "            tads[f'{chrID}:{start}-{end}'] = genes.split(';')\n",
    "    return (tads)\n",
    "\n",
    "\n",
    "def getTADsforGene(tads):\n",
    "    genes = dict()\n",
    "    for coord in tads:\n",
    "        for geneID in tads[coord]:\n",
    "            if genes.get(geneID):\n",
    "                genes[geneID].append(coord)\n",
    "            else:\n",
    "                genes[geneID] = [coord]\n",
    "    return (genes)\n",
    "\n",
    "\n",
    "def findMatchingTAD(queryGenes, targetGenes):\n",
    "    tadlist = []\n",
    "    for geneID in queryGenes:\n",
    "        tads = targetGenes.get(geneID)\n",
    "        if tads:\n",
    "            for tad in tads:\n",
    "                tadlist.append(tad)\n",
    "    # Now find the most common TAD\n",
    "    nMax = 0\n",
    "    best = None\n",
    "    for tad in tadlist:\n",
    "        n = tadlist.count(tad)\n",
    "        if n > nMax:\n",
    "            nMax = n\n",
    "            best = tad\n",
    "    return(best) \n",
    "    \n",
    "\n",
    "####### Main #######\n",
    "ambMex_tads = loadTads('/groups/tanaka/Projects/axolotl-genome/AmexG_v6.0/AmexG_v6.0_DD/work/manuscript/compare_TADs/ambMex60DD.putative.tads+genes.bed')\n",
    "print(f'Loaded {len(ambMex_tads)} axolotl TADs')\n",
    "\n",
    "hg19_tads = loadTads('/groups/tanaka/Projects/axolotl-genome/AmexG_v6.0/AmexG_v6.0_DD/work/manuscript/compare_TADs/hg19.tads+genes')\n",
    "print(f'Loaded {len(hg19_tads)} human TADs')\n",
    "\n",
    "# Iterate over the human TADs and find the axolotl TAD with the most genes present\n",
    "with open('/groups/tanaka/Projects/axolotl-genome/AmexG_v6.0/AmexG_v6.0_DD/work/manuscript/compare_TADs/hg19_vs_ambMex.matches', 'w') as hFile:\n",
    "    ambMex_genes = getTADsforGene(ambMex_tads)\n",
    "    for tadCoord in hg19_tads:\n",
    "        bestMatch = findMatchingTAD(hg19_tads[tadCoord], ambMex_genes)\n",
    "        print(f'Human: {tadCoord}\\tAmbMex: {bestMatch}', file=hFile)\n",
    "    print(\"Done\")"
   ]
  },
  {
   "cell_type": "code",
   "execution_count": null,
   "metadata": {},
   "outputs": [],
   "source": []
  },
  {
   "cell_type": "code",
   "execution_count": null,
   "metadata": {},
   "outputs": [],
   "source": [
    "## Paco's block\n",
    "import re\n",
    "File = open(\"/groups/tanaka/Projects/axolotl-genome/AmexG_v6.0/AmexG_v6.0_DD/work/manuscript/compare_TADs/ambMex60DD.putative.tads+genes.bed\",'r')\n",
    "\n",
    "Hum_TADs = dict()\n",
    "Amex_TADs = dict()\n",
    "\n",
    "for x in File:\n",
    "    x = x.split(\"\\t\")\n",
    "    Amex_TADs[\"-\".join(x[0:3])] = re.split(',|\\||;',x[3][:-2]) \n",
    "    \n",
    "File = open(\"/groups/tanaka/Projects/axolotl-genome/AmexG_v6.0/AmexG_v6.0_DD/work/manuscript/compare_TADs/hg19.tads+genes\")\n",
    "\n",
    "for x in File:\n",
    "    x = x.split(\"\\t\")\n",
    "    Hum_TADs[\"-\".join(x[0:3])] = re.split(',|\\||;',x[3][:-2]) "
   ]
  },
  {
   "cell_type": "code",
   "execution_count": null,
   "metadata": {},
   "outputs": [],
   "source": [
    "## Pacos compare tads\n",
    "Hum_TAD_Compare = dict()\n",
    "for i in Hum_TADs:\n",
    "    for j in Amex_TADs:\n",
    "        Counter = 0\n",
    "        for k in Hum_TADs[i]:\n",
    "            if k in Amex_TADs[j]:\n",
    "                Counter +=1\n",
    "        if Counter >0:\n",
    "            if Hum_TAD_Compare.get(i):\n",
    "                Hum_TAD_Compare[i].append([j,Counter])\n",
    "            else:\n",
    "                Hum_TAD_Compare[i]=[[[j,Counter]]]"
   ]
  },
  {
   "cell_type": "code",
   "execution_count": null,
   "metadata": {},
   "outputs": [],
   "source": [
    "Hum_TAD_Compare"
   ]
  },
  {
   "cell_type": "code",
   "execution_count": null,
   "metadata": {},
   "outputs": [],
   "source": []
  }
 ],
 "metadata": {
  "kernelspec": {
   "display_name": "Python 3",
   "language": "python",
   "name": "python3"
  },
  "language_info": {
   "codemirror_mode": {
    "name": "ipython",
    "version": 3
   },
   "file_extension": ".py",
   "mimetype": "text/x-python",
   "name": "python",
   "nbconvert_exporter": "python",
   "pygments_lexer": "ipython3",
   "version": "3.7.6"
  }
 },
 "nbformat": 4,
 "nbformat_minor": 4
}
