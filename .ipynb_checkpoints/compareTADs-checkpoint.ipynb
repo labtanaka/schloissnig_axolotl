{
 "cells": [
  {
   "cell_type": "code",
   "execution_count": 3,
   "metadata": {},
   "outputs": [
    {
     "ename": "TypeError",
     "evalue": "string indices must be integers",
     "output_type": "error",
     "traceback": [
      "\u001b[0;31m---------------------------------------------------------------------------\u001b[0m",
      "\u001b[0;31mTypeError\u001b[0m                                 Traceback (most recent call last)",
      "\u001b[0;32m<ipython-input-3-c6889df3e229>\u001b[0m in \u001b[0;36m<module>\u001b[0;34m\u001b[0m\n\u001b[1;32m     16\u001b[0m             \u001b[0;32melse\u001b[0m\u001b[0;34m:\u001b[0m\u001b[0;34m\u001b[0m\u001b[0;34m\u001b[0m\u001b[0m\n\u001b[1;32m     17\u001b[0m                 \u001b[0;32mfor\u001b[0m \u001b[0mtad\u001b[0m \u001b[0;32min\u001b[0m \u001b[0mamexTADs\u001b[0m\u001b[0;34m[\u001b[0m\u001b[0mgeneID\u001b[0m\u001b[0;34m]\u001b[0m\u001b[0;34m:\u001b[0m\u001b[0;34m\u001b[0m\u001b[0;34m\u001b[0m\u001b[0m\n\u001b[0;32m---> 18\u001b[0;31m                     \u001b[0;32mif\u001b[0m \u001b[0mtad\u001b[0m\u001b[0;34m[\u001b[0m\u001b[0;34m'chr'\u001b[0m\u001b[0;34m]\u001b[0m \u001b[0;34m!=\u001b[0m \u001b[0mchrID\u001b[0m \u001b[0;32mor\u001b[0m \u001b[0mtad\u001b[0m\u001b[0;34m[\u001b[0m\u001b[0;34m'start'\u001b[0m\u001b[0;34m]\u001b[0m \u001b[0;34m!=\u001b[0m \u001b[0mstart\u001b[0m \u001b[0;32mor\u001b[0m \u001b[0mtad\u001b[0m\u001b[0;34m[\u001b[0m\u001b[0;34m'end'\u001b[0m\u001b[0;34m]\u001b[0m \u001b[0;34m!=\u001b[0m \u001b[0mend\u001b[0m\u001b[0;34m:\u001b[0m\u001b[0;34m\u001b[0m\u001b[0;34m\u001b[0m\u001b[0m\n\u001b[0m\u001b[1;32m     19\u001b[0m                         \u001b[0mamexTADs\u001b[0m\u001b[0;34m[\u001b[0m\u001b[0mgeneID\u001b[0m\u001b[0;34m]\u001b[0m\u001b[0;34m.\u001b[0m\u001b[0mappend\u001b[0m\u001b[0;34m(\u001b[0m\u001b[0;34m{\u001b[0m\u001b[0;34m'chr'\u001b[0m\u001b[0;34m:\u001b[0m \u001b[0mchrID\u001b[0m\u001b[0;34m,\u001b[0m \u001b[0;34m'start'\u001b[0m\u001b[0;34m:\u001b[0m \u001b[0mint\u001b[0m\u001b[0;34m(\u001b[0m\u001b[0mstart\u001b[0m\u001b[0;34m)\u001b[0m\u001b[0;34m,\u001b[0m \u001b[0;34m'end'\u001b[0m\u001b[0;34m:\u001b[0m \u001b[0mint\u001b[0m\u001b[0;34m(\u001b[0m\u001b[0mend\u001b[0m\u001b[0;34m)\u001b[0m\u001b[0;34m}\u001b[0m\u001b[0;34m)\u001b[0m\u001b[0;34m\u001b[0m\u001b[0;34m\u001b[0m\u001b[0m\n\u001b[1;32m     20\u001b[0m                         \u001b[0;32mbreak\u001b[0m\u001b[0;34m\u001b[0m\u001b[0;34m\u001b[0m\u001b[0m\n",
      "\u001b[0;31mTypeError\u001b[0m: string indices must be integers"
     ]
    }
   ],
   "source": [
    "%matplotlib inline\n",
    "\n",
    "import os\n",
    "import numpy as np\n",
    "import matplotlib.pyplot as plt\n",
    "import math\n",
    "\n",
    "# Load the set of putative axolotl genes and save the coordinates of the TADs for each gene symbol\n",
    "amexTADs = dict()\n",
    "with open('/groups/tanaka/Projects/axolotl-genome/AmexG_v6.0/AmexG_v6.0_DD/work/manuscript/compare_TADs/ambMex60DD.genes+tads.bed', 'r') as hFile:\n",
    "    for strLine in hFile.readlines():\n",
    "        chrID, start, end, genes = strLine.strip().split('\\t')\n",
    "        for geneID in genes.replace(' [hs]', '').replace(' [nr]', '').split('|'):\n",
    "            if not amexTADs.get(geneID):\n",
    "                amexTADs[geneID] = [{'chr': chrID, 'start': int(start), 'end': int(end)}]\n",
    "            else:\n",
    "                for tad in amexTADs[geneID]:\n",
    "                    if tad['chr'] != chrID or tad['start'] != start or tad['end'] != end:\n",
    "                        amexTADs[geneID].append({'chr': chrID, 'start': int(start), 'end': int(end)})\n",
    "                        break\n",
    "print(f'Loaded TADs for {len(amexTADs)} axolotl genes')\n",
    "\n",
    "# Intersect the list of human genes with human TADs to get the list of genes for each TAD\n",
    "# Then output the list of axolotl \n",
    "hsTADs = dict()\n",
    "with open('/groups/tanaka/Projects/axolotl-genome/AmexG_v6.0/AmexG_v6.0_DD/work/manuscript/compare_TADs/hg19.tads+genes', 'r') as hFile:\n",
    "    for strLine in hFile.readlines():\n",
    "        chrID, start, end, genes = strLine.strip().split('\\t')\n",
    "        for geneID in genes.split(';'):\n",
    "            tads = amexTADs.get(geneID)\n",
    "            if tads:\n",
    "                print(strLine)\n",
    "                print(tads)\n",
    "                exit(0)\n",
    "        "
   ]
  },
  {
   "cell_type": "code",
   "execution_count": null,
   "metadata": {},
   "outputs": [],
   "source": []
  },
  {
   "cell_type": "code",
   "execution_count": null,
   "metadata": {},
   "outputs": [],
   "source": []
  }
 ],
 "metadata": {
  "kernelspec": {
   "display_name": "Python 3",
   "language": "python",
   "name": "python3"
  },
  "language_info": {
   "codemirror_mode": {
    "name": "ipython",
    "version": 3
   },
   "file_extension": ".py",
   "mimetype": "text/x-python",
   "name": "python",
   "nbconvert_exporter": "python",
   "pygments_lexer": "ipython3",
   "version": "3.7.6"
  }
 },
 "nbformat": 4,
 "nbformat_minor": 4
}
