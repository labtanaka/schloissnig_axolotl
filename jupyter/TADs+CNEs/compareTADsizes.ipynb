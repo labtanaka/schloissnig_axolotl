{
 "cells": [
  {
   "cell_type": "markdown",
   "metadata": {},
   "source": [
    "This script compares the TADs and the genes therein in human and axolotl and outputs the TADs that a similar\n",
    "in terms of the contained genes"
   ]
  },
  {
   "cell_type": "code",
   "execution_count": 1,
   "metadata": {},
   "outputs": [],
   "source": [
    "opts_hg19 = ['/groups/tanaka/Projects/axolotl-genome/current/work/manuscript/rebuttal/TADs_and_CNEs/hg19.annotation.gtf', \n",
    "             '/groups/tanaka/Projects/axolotl-genome/AmexG_v6.0/AmexG_v6.0_DD/work/manuscript/compare_TADs/hg19.TADs.merged_100kb.bed']\n",
    "opts_amex = ['/groups/tanaka/Projects/axolotl-genome/current/work/manuscript/rebuttal/TADs_and_CNEs/AmexT_v47.FULL.gtf', \n",
    "             '/groups/tanaka/Projects/axolotl-genome/AmexG_v6.0/AmexG_v6.0_DD/work/manuscript/compare_TADs/ambMex60DD.TADs.merged_100kb.bed']\n",
    "opts_out =  ['/groups/tanaka/Projects/axolotl-genome/AmexG_v6.0/AmexG_v6.0_DD/work/manuscript/compare_TADs/homologous_TADs.hg19_vs_amex.list']\n",
    "opts_tadsout = ['/groups/tanaka/Projects/axolotl-genome/current/work/manuscript/rebuttal/TADs_and_CNEs/homologous_TADs.list']"
   ]
  },
  {
   "cell_type": "code",
   "execution_count": 2,
   "metadata": {},
   "outputs": [],
   "source": [
    "import pandas as pd\n",
    "import os\n",
    "import sys\n",
    "import re\n",
    "\n",
    "def loadGenes(gtfFile):\n",
    "    genes = []\n",
    "    with(open(gtfFile, 'r')) as hFile:\n",
    "        for line in hFile.readlines():\n",
    "            if line.startswith('#'):\n",
    "                continue\n",
    "            chrName, _, entryType, start, end, _, strand, _, attr = line.split('\\t')\n",
    "            if entryType != 'gene' or not chrName.startswith('chr'):\n",
    "                continue\n",
    "            m = re.search('gene_type \"protein_coding\";.+; gene_name \"([^\"]+)\"', attr)\n",
    "            if m:\n",
    "                genes.append([chrName, int(start), int(end), m.group(1)])\n",
    "            else:\n",
    "                m = re.search('gene_id \"AMEX60.+; gene_name \"([^\"]+)\"', attr)\n",
    "                if m:\n",
    "                    for symbol in m.group(1).split('|'):\n",
    "                        if not symbol.startswith('AMEX'):\n",
    "                            if symbol.endswith('.L') or symbol.endswith('.S'):\n",
    "                                symbol = symbol[:-2]\n",
    "                            genes.append([chrName, int(start), int(end), symbol.replace(' [nr]', '').replace(' [hs]', '')])\n",
    "    return pd.DataFrame(data=genes, columns=['chr', 'start', 'end', 'symbol'])\n",
    "\n",
    "\n",
    "def loadTADs(bedFile):\n",
    "    data = []\n",
    "    with(open(bedFile, 'r')) as hFile:\n",
    "        for line in hFile.readlines():\n",
    "            if line.startswith('#'):\n",
    "                continue\n",
    "            chrName, start, end, _ = line.split('\\t', 3)\n",
    "            data.append([chrName, int(start), int(end)])\n",
    "    return pd.DataFrame(data=data, columns=['chr', 'start', 'end'])\n"
   ]
  },
  {
   "cell_type": "code",
   "execution_count": 3,
   "metadata": {},
   "outputs": [
    {
     "name": "stderr",
     "output_type": "stream",
     "text": [
      "Reading the human TADs from '/groups/tanaka/Projects/axolotl-genome/AmexG_v6.0/AmexG_v6.0_DD/work/manuscript/compare_TADs/hg19.TADs.merged_100kb.bed'\n",
      "Reading the human genes from '/groups/tanaka/Projects/axolotl-genome/current/work/manuscript/rebuttal/TADs_and_CNEs/hg19.annotation.gtf'\n",
      "  Loaded 20345 genes in 12918 TADs\n",
      "Reading the axolotl TADs from '/groups/tanaka/Projects/axolotl-genome/AmexG_v6.0/AmexG_v6.0_DD/work/manuscript/compare_TADs/ambMex60DD.TADs.merged_100kb.bed'\n",
      "Reading the axolotl genes from '/groups/tanaka/Projects/axolotl-genome/current/work/manuscript/rebuttal/TADs_and_CNEs/AmexT_v47.FULL.gtf'\n",
      "  Loaded 38160 genes in 37551 TADs\n"
     ]
    }
   ],
   "source": [
    "print(f\"Reading the human TADs from '{opts_hg19[1]}'\", file=sys.stderr)\n",
    "tads_hg = loadTADs(opts_hg19[1])\n",
    "print(f\"Reading the human genes from '{opts_hg19[0]}'\", file=sys.stderr)\n",
    "genes_hg = loadGenes(opts_hg19[0])\n",
    "print(f'  Loaded {genes_hg[\"chr\"].count()} genes in {tads_hg[\"chr\"].count()} TADs', file=sys.stderr)\n",
    "\n",
    "print(f\"Reading the axolotl TADs from '{opts_amex[1]}'\", file=sys.stderr)\n",
    "tads_amex = loadTADs(opts_amex[1])\n",
    "print(f\"Reading the axolotl genes from '{opts_amex[0]}'\", file=sys.stderr)\n",
    "genes_amex = loadGenes(opts_amex[0])\n",
    "print(f'  Loaded {genes_amex[\"chr\"].count()} genes in {tads_amex[\"chr\"].count()} TADs', file=sys.stderr)"
   ]
  },
  {
   "cell_type": "code",
   "execution_count": 4,
   "metadata": {},
   "outputs": [
    {
     "name": "stderr",
     "output_type": "stream",
     "text": [
      "/software/2020/software/jupyter-cbe-env/0.1.0-foss-2018b-python-3.6.6/lib/python3.6/site-packages/ipykernel_launcher.py:40: SettingWithCopyWarning: \n",
      "A value is trying to be set on a copy of a slice from a DataFrame.\n",
      "Try using .loc[row_indexer,col_indexer] = value instead\n",
      "\n",
      "See the caveats in the documentation: http://pandas.pydata.org/pandas-docs/stable/indexing.html#indexing-view-versus-copy\n",
      "/software/2020/software/jupyter-cbe-env/0.1.0-foss-2018b-python-3.6.6/lib/python3.6/site-packages/ipykernel_launcher.py:41: FutureWarning: Sorting because non-concatenation axis is not aligned. A future version\n",
      "of pandas will change to not sort by default.\n",
      "\n",
      "To accept the future behavior, pass 'sort=False'.\n",
      "\n",
      "To retain the current behavior and silence the warning, pass 'sort=True'.\n",
      "\n",
      "Analyzed 20345 human genes. For 3796, no TAD could be found. 273 TADs did not have axolotl hits\n"
     ]
    }
   ],
   "source": [
    "hOut = open(opts_out[0], 'w')\n",
    "processed = set()\n",
    "nNoTADs = 0\n",
    "nNoHits = 0\n",
    "nHomologous = 0\n",
    "lengths = {'hg': [], 'amex': []}\n",
    "for symbol in list(set(genes_hg['symbol'].values)):\n",
    "    if symbol in processed:\n",
    "        continue\n",
    "    \n",
    "    # Select all human genes that have the current gene symbol. Since there are quite a few cases\n",
    "    # where two genes are annotated with the same gene symbol and basically the same position,\n",
    "    # pick the first one.\n",
    "    [[geneChr_hg, geneStart_hg, geneEnd_hg, _]] = genes_hg[genes_hg['symbol'] == symbol].head(1).values\n",
    "    \n",
    "    # Next, find the smallest TAD in the human genome that contains the gene\n",
    "    _tads_hg = tads_hg[(tads_hg['chr'] == geneChr_hg) & (tads_hg['start'] <= geneStart_hg) & (tads_hg['end'] >= geneEnd_hg)]\n",
    "    if _tads_hg['chr'].count() == 0:\n",
    "        nNoTADs += 1\n",
    "        continue\n",
    "    \n",
    "    _mintadlen_hg = pd.DataFrame.min(_tads_hg['end'] - _tads_hg['start'])\n",
    "    _hg_tad = _tads_hg[_tads_hg['end'] - _tads_hg['start'] == _mintadlen_hg].head(1)\n",
    "\n",
    "    [[chrTAD_hg, startTAD_hg, endTAD_hg]] = _hg_tad.values\n",
    "        \n",
    "    # Find the human genes within that TAD\n",
    "    _genes_hg = genes_hg[ (genes_hg['chr'] == chrTAD_hg) & \n",
    "                          (genes_hg['start'].between(startTAD_hg, endTAD_hg) | genes_hg['end'].between(startTAD_hg, endTAD_hg)) ]\n",
    "    \n",
    "    # Find the axolotl counterparts of the genes within the TAD\n",
    "    _genes_amex = genes_amex[genes_amex['symbol'].isin(_genes_hg['symbol'].values)]\n",
    "    \n",
    "    # Find all TADs in axolotl that contain the genes identified above\n",
    "    _tads_amex = pd.DataFrame(columns=['chr', 'start', 'end'])\n",
    "    for idx in _genes_amex.index:\n",
    "        tmp = tads_amex[ (tads_amex['chr'] == _genes_amex['chr'][idx]) & \n",
    "                         (tads_amex['start'] <= _genes_amex['start'][idx]) & \n",
    "                         (tads_amex['end'] >= _genes_amex['end'][idx])]\n",
    "        tmp['symbol'] = _genes_amex['symbol'][idx]\n",
    "        _tads_amex = pd.concat([_tads_amex, tmp])\n",
    "        \n",
    "    if _tads_amex['chr'].count() == 0:\n",
    "        nNoHits += 1\n",
    "    else:\n",
    "        \n",
    "        # Find the smallest TAD that includes the majority of the genes\n",
    "        #_mintadlen_amex = pd.DataFrame.min(tmp['end'] - tmp['start'])\n",
    "        #tmp = tmp[tmp['end'] - tmp['start'] == _mintadlen_amex].head(1)\n",
    "        \n",
    "        # Find the TADs with the highest number of genes in them.\n",
    "        gene_counts = _tads_amex.drop_duplicates().groupby(['chr', 'start', 'end']).count()\n",
    "        mxN = pd.DataFrame.max(gene_counts['symbol'])\n",
    "        tmp = gene_counts[gene_counts['symbol'] == mxN].reset_index()\n",
    "        \n",
    "        _mintadlen_amex = pd.DataFrame.min(tmp['end'] - tmp['start'])\n",
    "        _amex_tad = tmp[tmp['end'] - tmp['start'] == _mintadlen_amex].head(1)\n",
    "        lengths['hg'].append([_mintadlen_hg, sorted(list(set(_genes_hg['symbol'].values)))])\n",
    "        lengths['amex'].append([_mintadlen_amex, sorted(list(set(_genes_amex['symbol'].values)))])\n",
    "        nHomologous += 1\n",
    "        \n",
    "        print(f\"{_hg_tad['chr'].values[0]}:{_hg_tad['start'].values[0]}-{_hg_tad['end'].values[0]}\\t\" + \n",
    "              f\"{sorted(list(set(_genes_hg['symbol'].values)))}\\t\" + \n",
    "              f\"{_amex_tad['chr'].values[0]}:{_amex_tad['start'].values[0]}-{_amex_tad['end'].values[0]}\\t\" +\n",
    "              f\"{sorted(list(set(_genes_amex['symbol'].values)))}\", file=hOut)\n",
    "\n",
    "    for s in _genes_hg['symbol'].values:\n",
    "        processed.add(s)\n",
    "\n",
    "print(f\"Analyzed {genes_hg['symbol'].count()} human genes. \" + \n",
    "      f'For {nNoTADs}, no TAD could be found. ' +\n",
    "      f'{nNoHits} TADs did not have axolotl hits', file=sys.stderr)\n",
    "hOut.close()"
   ]
  },
  {
   "cell_type": "code",
   "execution_count": 27,
   "metadata": {},
   "outputs": [
    {
     "data": {
      "image/png": "[encoded data removed]",
      "text/plain": [
       "<Figure size 1440x720 with 1 Axes>"
      ]
     },
     "metadata": {
      "needs_background": "light"
     },
     "output_type": "display_data"
    }
   ],
   "source": [
    "%matplotlib inline\n",
    "import matplotlib.pyplot as plt\n",
    "import statistics as stats\n",
    "import math\n",
    "\n",
    "#fig, axs = plt.subplots(nrows=1, ncols=2, figsize=(20,10))\n",
    "fig, axs = plt.subplots(nrows=1, ncols=1, figsize=(20,10))\n",
    "\n",
    "#axs[0].hist([x[0] for x in lengths['amex']], bins=100, color='green', label='Axolotl', alpha=0.5)\n",
    "#axs[0].hist([x[0] for x in lengths['hg']], bins=100, color='orange', label='Human', alpha=0.5)\n",
    "#axs[0].legend(fontsize=18)\n",
    "#plt.sca(axs[0])\n",
    "#xticks, xlabels = plt.xticks()\n",
    "#xlabels_new = []\n",
    "#for x in xticks:\n",
    "#    xlabels_new.append(f'{x / 1000_000:.1f}')\n",
    "#xlabels_new[0] = ''\n",
    "#xlabels_new[-1] = ''\n",
    "#plt.xticks(xticks, xlabels_new, fontsize=14)\n",
    "#plt.xlabel('TAD size in MB', fontsize=14)\n",
    "#plt.ylabel('Count', fontsize=14)\n",
    "#plt.setp(axs[0].get_yticklabels(), fontsize=14)\n",
    "\n",
    "ratios = []\n",
    "nIsNan = 0\n",
    "idx = 1\n",
    "#hOutTADs = open(opts_tadsout[0], 'w')\n",
    "#print('Index\\tHuman TAD length\\tHuman genes count\\tHuman genes\\tAxolotl TAD length\\tAxolotl genes count\\tAxolotl genes\\t1:1 homolog', file=hOutTADs)\n",
    "fgfBin = None\n",
    "for hg, am in zip(lengths['hg'], lengths['amex']):\n",
    "    str1_1 = 'NO'\n",
    "    if True or len(am[1]) == len(hg[1]):\n",
    "        str1_1 = 'YES'\n",
    "        r = am[0] / hg[0]\n",
    "        if r > 100:\n",
    "            r = 101\n",
    "        ratios.append(r)\n",
    "    #print(f'{idx}\\t{hg[0]}\\t{len(hg[1])}\\t{hg[1]}\\t{am[0]}\\t{len(am[1])}\\t{am[1]}\\t{str1_1}', file=hOutTADs)\n",
    "    #idx += 1\n",
    "    if 'FGF8' in hg[1]:\n",
    "        fgfBin = am[0] / hg[0]\n",
    "    #    print(f'{hg}\\t{am}')\n",
    "#hOutTADs.close()\n",
    "    \n",
    "axs.hist(ratios, bins=101, color='blue', edgecolor='black')\n",
    "axs.axvline(7, linestyle='dashed', color='red', linewidth=2)\n",
    "plt.setp(axs.get_xticklabels(), fontsize=14)\n",
    "plt.setp(axs.get_yticklabels(), fontsize=14)\n",
    "plt.sca(axs)\n",
    "plt.xlabel('TAD length ratio axolotl/human', fontsize=14)\n",
    "plt.ylabel('Count', fontsize=14)\n",
    "plt.xticks([0, 7, 20, 40, 49, 60, 80, 101], ['0', '7', '20', '40', '49', '60', '80', '>100'], fontsize=14)\n",
    "plt.savefig('/groups/tanaka/ff.pdf', dpi=300)"
   ]
  },
  {
   "cell_type": "code",
   "execution_count": 28,
   "metadata": {},
   "outputs": [
    {
     "data": {
      "text/plain": [
       "4086"
      ]
     },
     "execution_count": 28,
     "metadata": {},
     "output_type": "execute_result"
    }
   ],
   "source": [
    "len(ratios)"
   ]
  },
  {
   "cell_type": "code",
   "execution_count": null,
   "metadata": {},
   "outputs": [],
   "source": []
  }
 ],
 "metadata": {
  "kernelspec": {
   "display_name": "Python 3",
   "language": "python",
   "name": "python3"
  },
  "language_info": {
   "codemirror_mode": {
    "name": "ipython",
    "version": 3
   },
   "file_extension": ".py",
   "mimetype": "text/x-python",
   "name": "python",
   "nbconvert_exporter": "python",
   "pygments_lexer": "ipython3",
   "version": "3.8.6"
  }
 },
 "nbformat": 4,
 "nbformat_minor": 4
}
