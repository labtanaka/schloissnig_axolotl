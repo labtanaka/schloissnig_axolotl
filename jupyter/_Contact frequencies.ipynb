{
 "cells": [
  {
   "cell_type": "code",
   "execution_count": 1,
   "metadata": {},
   "outputs": [],
   "source": [
    "%matplotlib inline\n",
    "\n",
    "import matplotlib.pyplot as plt\n",
    "import pandas\n",
    "\n",
    "al_10k = pandas.read_csv('/groups/tanaka/Projects/axolotl-genome/AmexG_v6.0/AmexG_v6.0_DD/work/TADs/HiCUP/cooler/diamond/AL1_DpnII.10000.diamond')\n",
    "\n"
   ]
  },
  {
   "cell_type": "code",
   "execution_count": 3,
   "metadata": {},
   "outputs": [
    {
     "data": {
      "text/plain": [
       "Index(['chrom\\tstart\\tend\\tis_bad_bin\\tlog2_insulation_score_30000\\tn_valid_pixels_30000\\tlog2_insulation_score_50000\\tn_valid_pixels_50000\\tlog2_insulation_score_100000\\tn_valid_pixels_100000\\tlog2_insulation_score_150000\\tn_valid_pixels_150000\\tlog2_insulation_score_200000\\tn_valid_pixels_200000\\tlog2_insulation_score_250000\\tn_valid_pixels_250000\\tlog2_insulation_score_300000\\tn_valid_pixels_300000\\tlog2_insulation_score_350000\\tn_valid_pixels_350000\\tlog2_insulation_score_450000\\tn_valid_pixels_450000\\tlog2_insulation_score_500000\\tn_valid_pixels_500000\\tboundary_strength_100000\\tboundary_strength_200000\\tboundary_strength_300000\\tboundary_strength_500000\\tboundary_strength_30000\\tboundary_strength_50000\\tboundary_strength_150000\\tboundary_strength_250000\\tboundary_strength_350000\\tboundary_strength_450000'], dtype='object')"
      ]
     },
     "execution_count": 3,
     "metadata": {},
     "output_type": "execute_result"
    }
   ],
   "source": [
    "al_10k.keys()"
   ]
  },
  {
   "cell_type": "code",
   "execution_count": null,
   "metadata": {},
   "outputs": [],
   "source": []
  }
 ],
 "metadata": {
  "kernelspec": {
   "display_name": "Python 3",
   "language": "python",
   "name": "python3"
  },
  "language_info": {
   "codemirror_mode": {
    "name": "ipython",
    "version": 3
   },
   "file_extension": ".py",
   "mimetype": "text/x-python",
   "name": "python",
   "nbconvert_exporter": "python",
   "pygments_lexer": "ipython3",
   "version": "3.8.6"
  }
 },
 "nbformat": 4,
 "nbformat_minor": 4
}
